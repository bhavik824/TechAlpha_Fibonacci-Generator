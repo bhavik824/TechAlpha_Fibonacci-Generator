{
 "cells": [
  {
   "cell_type": "code",
   "execution_count": 3,
   "id": "73535dc2-748a-4157-93a6-e24840a662ef",
   "metadata": {},
   "outputs": [
    {
     "name": "stdin",
     "output_type": "stream",
     "text": [
      "Input the number of Fibonacci numbers you want to generate?  12\n"
     ]
    },
    {
     "name": "stdout",
     "output_type": "stream",
     "text": [
      "Number of first  12 Fibonacci numbers:\n",
      "0 1 1 2 3 5 8 13 21 34 55 89 "
     ]
    }
   ],
   "source": [
    "def fibonacci():\n",
    "    m,n = 0, 1\n",
    "    while True:\n",
    "        yield m\n",
    "        m,n = n, m + n\n",
    "\n",
    "# Accept input from the user\n",
    "num = int(input(\"Input the number of Fibonacci numbers you want to generate? \"))\n",
    "\n",
    "print(\"Number of first \",num,\"Fibonacci numbers:\")\n",
    "fib = fibonacci()\n",
    "for i in range(num):\n",
    "    print(next(fib),end=\" \")\n"
   ]
  },
  {
   "cell_type": "code",
   "execution_count": null,
   "id": "45cd99d9-65c5-448d-9198-98224cb02f44",
   "metadata": {},
   "outputs": [],
   "source": []
  }
 ],
 "metadata": {
  "kernelspec": {
   "display_name": "Python 3 (ipykernel)",
   "language": "python",
   "name": "python3"
  },
  "language_info": {
   "codemirror_mode": {
    "name": "ipython",
    "version": 3
   },
   "file_extension": ".py",
   "mimetype": "text/x-python",
   "name": "python",
   "nbconvert_exporter": "python",
   "pygments_lexer": "ipython3",
   "version": "3.11.5"
  }
 },
 "nbformat": 4,
 "nbformat_minor": 5
}
